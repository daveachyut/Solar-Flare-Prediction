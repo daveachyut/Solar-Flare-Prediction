{
 "cells": [
  {
   "cell_type": "code",
   "execution_count": null,
   "metadata": {
    "collapsed": true
   },
   "outputs": [],
   "source": [
    "\n",
    "import numpy as np\n",
    "from sunpy.sun import solar_cycle_number\n",
    "import pandas as pd\n",
    "\n",
    "\n",
    "class DataChunker:\n",
    "    \"\"\"\n",
    "    For a given flare event, request all necessary data, align different cadences, and pick from samples\n",
    "    \"\"\"\n",
    "\n",
    "    def __init__(self, database, streams=('meta', 'f107', 'xrs'), num_historical_goes=5):\n",
    "        self.goes_k = num_historical_goes\n",
    "        self.database = database.entries\n",
    "        self.streams = streams\n",
    "\n",
    "    def chunk(self, start_index, end_index, test_stream='xrsa'):\n",
    "        \"\"\"\n",
    "        Divide data stream up into small flare sections\n",
    "        :return: a pair of chunked inputs and outputs\n",
    "        :rtype: (np.ndarray, np.ndarray)\n",
    "        \"\"\"\n",
    "\n",
    "        chunks = []\n",
    "        test = []\n",
    "        for entry in self.database[start_index: end_index]:\n",
    "            for chunk_start_index in range(entry['xrs'].shape[0] - self.goes_k):\n",
    "                chunk = dict()\n",
    "                if 'f107' in self.streams:\n",
    "                    if entry['f107'].values.shape[0] > 0:\n",
    "                        chunk['f107'] = np.mean(entry['f107'].values)\n",
    "                    else:\n",
    "                        chunk['f107'] = np.nan\n",
    "\n",
    "                if 'meta' in self.streams:\n",
    "                    chunk['time_start'] = entry['meta'].time_start.timestamp()\n",
    "                    chunk['pos_x'] = entry['meta'].pos_x\n",
    "                    chunk['pos_y'] = entry['meta'].pos_y\n",
    "                    chunk['solar_cycle_number'] = solar_cycle_number(entry['meta']['time_start'])\n",
    "                    chunk['time_diff'] = (entry['xrs'].index[chunk_start_index] -\n",
    "                                          entry['meta'].time_start).total_seconds()\n",
    "\n",
    "                if 'xrs' in self.streams:\n",
    "                    for i, index in enumerate(range(chunk_start_index, chunk_start_index + self.goes_k)):\n",
    "                        chunk['xrsa_{:05d}'.format(i)] = entry['xrs']['xrsa'][index]\n",
    "                        chunk['xrsb_{:05d}'.format(i)] = entry['xrs']['xrsb'][index]\n",
    "                    test.append(entry['xrs'][test_stream][chunk_start_index + self.goes_k:].values)\n",
    "                chunks.append(chunk)\n",
    "        return pd.DataFrame(chunks), test"
   ]
  }
 ],
 "metadata": {
  "kernelspec": {
   "display_name": "Python 3",
   "language": "python",
   "name": "python3"
  },
  "language_info": {
   "codemirror_mode": {
    "name": "ipython",
    "version": 3
   },
   "file_extension": ".py",
   "mimetype": "text/x-python",
   "name": "python",
   "nbconvert_exporter": "python",
   "pygments_lexer": "ipython3",
   "version": "3.6.3"
  }
 },
 "nbformat": 4,
 "nbformat_minor": 2
}
